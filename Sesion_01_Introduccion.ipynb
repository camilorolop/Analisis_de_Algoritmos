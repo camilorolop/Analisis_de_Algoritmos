{
 "cells": [
  {
   "cell_type": "markdown",
   "metadata": {
    "slideshow": {
     "slide_type": "slide"
    }
   },
   "source": [
    "<h1 align=\"center\">ANÁLISIS DE ALGORITMOS</h1>\n",
    "\n",
    "<h2 align=\"center\">Sesión 01: Introducción</h2>\n",
    "\n",
    "<h2 align=\"center\">ESCUELA DE CIENCIAS</h2>\n",
    "\n",
    "<h2 align=\"center\">DOCTORADO EN INGENIERÍA MATEMÁTICA</h2>\n",
    "\n",
    "<h2 align=\"center\">UNIVERSIDAD EAFIT</h2>\n",
    "\n",
    "<h3 align=\"center\">MEDELLÍN - COLOMBIA </h3>\n",
    "\n",
    "<h3 align=\"center\">2019 </h3>"
   ]
  },
  {
   "cell_type": "markdown",
   "metadata": {
    "slideshow": {
     "slide_type": "subslide"
    }
   },
   "source": [
    "### Docente: Carlos Alberto Álvarez Henao, I.C. Ph.D."
   ]
  },
  {
   "cell_type": "markdown",
   "metadata": {
    "slideshow": {
     "slide_type": "subslide"
    }
   },
   "source": [
    "1. Introducción\n",
    "\n",
    "    1.1 Definición de algoritmo\n",
    "    \n",
    "    1.2 Análisis de Algoritmos\n",
    "    \n",
    "    1.3 Notación matemática"
   ]
  },
  {
   "cell_type": "markdown",
   "metadata": {
    "slideshow": {
     "slide_type": "slide"
    }
   },
   "source": [
    "### Definición de *Algoritmo*"
   ]
  },
  {
   "cell_type": "markdown",
   "metadata": {
    "slideshow": {
     "slide_type": "fragment"
    }
   },
   "source": [
    "**Algoritmo:** palabra que proviene del matemático persa (*Persia*, hoy *Irán*) del $S.IX$, $al-Khow\\hat{a}rizm\\hat{i}$."
   ]
  },
  {
   "cell_type": "markdown",
   "metadata": {
    "slideshow": {
     "slide_type": "subslide"
    }
   },
   "source": [
    "> *\"Conjunto de reglas para efectuar un cálculo a mano o en una máquina\"* (Brassard y Bratley, 1989).\n",
    "\n",
    "-   En el curso nos ocuparemos de éstos últimos."
   ]
  },
  {
   "cell_type": "markdown",
   "metadata": {
    "slideshow": {
     "slide_type": "subslide"
    }
   },
   "source": [
    "> **_RAE:_** *\"Es un conjunto prescrito de instrucciones o reglas bien definidas, ordenadas y finitas que permiten llevar a cabo una actividad mediante pasos sucesivos que no generen dudas a quien deba hacer dicha actividad\"*."
   ]
  },
  {
   "cell_type": "markdown",
   "metadata": {
    "slideshow": {
     "slide_type": "subslide"
    }
   },
   "source": [
    "<div class=\"alert alert-info\" role=\"alert\">\n",
    "  Una receta de cocina sería un algoritmo si describe de forma precisa la forma y cantidades para preparar cierto plato. Sin embargo, si se incluyen instrucciones vagas como \"sal al gusto\" o \"revolver hasta que espese\", entonces no lo podremos considerar un algoritmo.\n",
    "</div>"
   ]
  },
  {
   "cell_type": "markdown",
   "metadata": {
    "slideshow": {
     "slide_type": "subslide"
    }
   },
   "source": [
    "- Otra situación es la de aceptar elecciones aleatorias acerca de lo que hay qué hacer en cierta situación. \n",
    "\n",
    "  - Aleatorio no significa \"arbitrario\", por el contrario, si se conoce la probabilidad de ocurrencia de un dato, se podrán usar dentro de un algoritmo para hallar una respuesta a un problema."
   ]
  },
  {
   "cell_type": "markdown",
   "metadata": {
    "slideshow": {
     "slide_type": "subslide"
    }
   },
   "source": [
    "- En muchos problemas no existe (o no se conoce) un algoritmo que nos lleve a una respuesta. \n",
    "\n",
    "- En algunos casos hay aproximaciones, pero su ejecución tardaría mucho tiempo y sería inviable (del orden de años...). \n",
    "\n",
    "  - En estos casos, se puede optar por un procedimiento, que si bien no nos dará una respuesta exacta, nos lleve a una respuesta aproximada. El usuario será el encargado de determinar qué tan aproximada requiere esa respuesta."
   ]
  },
  {
   "cell_type": "markdown",
   "metadata": {
    "slideshow": {
     "slide_type": "subslide"
    }
   },
   "source": [
    "- En otros casos, lo anterior no es posible y solo podemos guiarnos por nuestra experiencia y sentido común. \n",
    "\n",
    "\n",
    "- A este tipo de procedimiento se le denomina *Algoritmo heurístico* o simplemente *heurística*.\n",
    "\n",
    "\n",
    "- La diferencia entre los dos es que en el primero se puede determinar la cantidad de error que estaríamos dispuestos a aceptar en una respuesta. \n",
    "\n",
    "\n",
    "- En el segundo no se podrá controlar el errror, pero quizás se pueda estimar su magnitud."
   ]
  },
  {
   "cell_type": "markdown",
   "metadata": {
    "slideshow": {
     "slide_type": "subslide"
    }
   },
   "source": [
    "En la primera parte del curso (hasta la sesión 9 aproximadamente) se tratarán algoritmos cuyas reglas nos llevarán a la respuesta correcta. Al finalizar el curso se tratarán los algortimos heurísticos y aproximados."
   ]
  },
  {
   "cell_type": "markdown",
   "metadata": {
    "slideshow": {
     "slide_type": "slide"
    }
   },
   "source": [
    "## 1.2 Análisis de Algoritmos"
   ]
  },
  {
   "cell_type": "markdown",
   "metadata": {
    "slideshow": {
     "slide_type": "subslide"
    }
   },
   "source": [
    "El desarrollo de un algoritmo tiene varias etapas:\n",
    "\n",
    "\n",
    "![Imagen](https://github.com/carlosalvarezh/Analisis_de_Algoritmos/blob/master/images/EtapasAlgoritmo.png?raw=true \"\")"
   ]
  },
  {
   "cell_type": "markdown",
   "metadata": {
    "slideshow": {
     "slide_type": "subslide"
    }
   },
   "source": [
    "- **_Modelamiento del problema:_** Se especifican todos los supuestos acerca de los datos de entrada y de la capacidad computacional del algoritmo.\n",
    "\n",
    "\n",
    "- **_Diseño de la solución al problema:_** Se basa en distintos métodos de resolución del problema.\n",
    "\n",
    "\n",
    "- **_Análisis del algoritmo para determinar la eficiencia:_** Se estudia cuántas operaciones se realizan para resolver un problema. A la mayor cantidad de operaciones con las que se resolvería el problema se de denomina *peor caso* (de nuestro interés). El análisis realimenta el diseño para mejorar el algoritmo.\n",
    "\n",
    "\n",
    "- **_Programación:_** Es la codificación del algoritmo en algún lenguaje de programación para realizar las cuentas a través de una máquina de forma rápida."
   ]
  },
  {
   "cell_type": "markdown",
   "metadata": {
    "slideshow": {
     "slide_type": "slide"
    }
   },
   "source": [
    "## 1.3 Notación Matemática"
   ]
  },
  {
   "cell_type": "markdown",
   "metadata": {
    "slideshow": {
     "slide_type": "subslide"
    }
   },
   "source": [
    "### Lenguaje natural:"
   ]
  },
  {
   "cell_type": "markdown",
   "metadata": {
    "slideshow": {
     "slide_type": "subslide"
    }
   },
   "source": [
    "- En la filosofía del lenguaje, el *lenguaje natural* es la lengua o idioma hablado o escrito por humanos para propósitos generales de comunicación.\n",
    "\n",
    "\n",
    "- Escribir un programa de computador en un lenguaje natural no es lo más adecuado. Es por esto que se crearon los lenguajes de programación."
   ]
  },
  {
   "cell_type": "markdown",
   "metadata": {
    "slideshow": {
     "slide_type": "subslide"
    }
   },
   "source": [
    "- Para describir un algoritmo emplearemos tanto palabras del lenguaje natural (preferiblemente en inglés, ya que las expresiones de los lenguajes de programación están escritos en ese idioma), como expresiones del lenguaje matemático, dependiendo de la necesidad.\n",
    "\n",
    "\n",
    "- Una sola expresión en el lenguaje que emplearemos para describir un algoritmo puede llevar implícitamente una o varias instrucciones en el lenguaje de programación."
   ]
  },
  {
   "cell_type": "markdown",
   "metadata": {
    "slideshow": {
     "slide_type": "slide"
    }
   },
   "source": [
    "### Notación matemática"
   ]
  },
  {
   "cell_type": "markdown",
   "metadata": {
    "slideshow": {
     "slide_type": "subslide"
    }
   },
   "source": [
    "Existen dos valores de verdad: *Verdadero* y *Falso*. Una variable booleana solo puede tomar uno de estos dos valores."
   ]
  },
  {
   "cell_type": "markdown",
   "metadata": {
    "slideshow": {
     "slide_type": "fragment"
    }
   },
   "source": [
    "Sea $p$ una variable booleana, escribiremos $p$ *es verdadero*, o simplemente $p$, para indicar $p =$ *Verdadero*."
   ]
  },
  {
   "cell_type": "markdown",
   "metadata": {
    "slideshow": {
     "slide_type": "subslide"
    }
   },
   "source": [
    "Sean $p$ y $q$ dos variables booleanas: \n",
    "\n",
    "- Su conjunción $p\\wedge q$ ($p$ y $q$), es *verdadero* si y sólo si (usaremos $sii$) $p$ y $q$ son verdaderos.\n",
    "\n",
    "- Su disyunción  $p\\vee q$ ($p$ o $q$), es *verdadero* $sii$ al menos uno de los dos, $p$ o $q$, son verdaderos.\n",
    "\n",
    "- La negación, $\\neg p$ (*no* $p$), es verdadero $sii$ $p$ es falso.\n",
    "\n",
    "- Si la verdad de $p$ implica la de $q$ escribiremos $p \\Rightarrow  q$ (se lee: *si $p$ entonces $q$*).\n",
    "\n",
    "- Si la verdad de $p$ es equivalente a la de $q$, lo que significa  que o ambos son verdadero o ambos falso, se escribe $p \\Leftrightarrow q$\n",
    "\n",
    "Se pueden construir fórmulas booleanas a partir de variables booleanas, conectivas y paréntesis."
   ]
  },
  {
   "cell_type": "markdown",
   "metadata": {
    "slideshow": {
     "slide_type": "slide"
    }
   },
   "source": [
    "### Teoría de conjuntos"
   ]
  },
  {
   "cell_type": "markdown",
   "metadata": {
    "slideshow": {
     "slide_type": "subslide"
    }
   },
   "source": [
    "Sin pretender realizar una definición formal de *conjunto*, para nuestros fines prácticos, un *conjunto es una colección no ordenada de elementos distintos*.\n",
    "\n",
    "- Un conjunto se dice finito si contiene un número finito de elementos y en caso contrario, sería un conjunto infinito.\n",
    "\n",
    "- Si $X$ es un conjunto finito, $|X|$, la cardinalidad de $X$,  denota el número de elementos que hay en $X$.\n",
    "\n",
    "- Si $X$ es un conjunto infinito, $|X|$, la cardinalidad de $X$ es infinita.\n",
    "\n",
    "- El conjunto vacío, que se denota como $\\emptyset$, es el conjunto único cuya cardinalidad es $0$.\n",
    "\n",
    "- Una forma simple de denotar un conjunto es juntar los elementos que lo integran entre llaves. **Por ejemplo**, $\\{2,3,5,7 \\}$, es el conjunto de números primos de una sola cifra.\n",
    "\n",
    "- Cuando no haya posibilidad a ambiguedad, se pueden usar los puntos suspensivos para denotar la totalidad de los elementos del conjunto. **Por ejemplo**, $\\mathbb{N} = \\{0,1,2,3, \\ldots \\}$ es el conjunto de números naturales.\n",
    "\n",
    "- Si $X$ es un conjunto de $x \\in X$ significa que $x$ pertenece a $X$. "
   ]
  },
  {
   "cell_type": "markdown",
   "metadata": {
    "slideshow": {
     "slide_type": "slide"
    }
   },
   "source": [
    "### Series\n",
    "\n",
    "Supóngase que $u(n)$ es cualquier función de $n$ definida para todos los valores de $n$. Si se suman los valores de $u(i)$ para $i=1,2,3, \\ldots$, se obtiene otra función de $n$:\n",
    "\n",
    "$$s(n) = u(1) + u(2) + u(3) + \\ldots + u(n-1) + u(n)$$\n",
    "\n",
    "Se conviene usar la siguiente notación:\n",
    "\n",
    "$$s_n = u_1 + u_2 + u_3 + \\ldots + u_{n-1} + u_n$$\n",
    "\n",
    "o en forma compacta:\n",
    "\n",
    "$$s_n=\\sum \\limits_{i=1}^{n} u_i$$"
   ]
  },
  {
   "cell_type": "markdown",
   "metadata": {
    "slideshow": {
     "slide_type": "subslide"
    }
   },
   "source": [
    "Si $x_n$ tiende a un límite $s$ cuando $n$ tiende a infinito, se tiene que\n",
    "\n",
    "$$s = \\lim_{n \\rightarrow \\infty} \\sum \\limits_{i=1}^{n} u_i$$\n",
    "\n",
    "que suele escribirse como\n",
    "\n",
    "$$s = \\sum \\limits_{i=1}^{\\infty} u_i$$\n",
    "\n",
    "o tambien\n",
    "\n",
    "$$s = u_1 + u_2 + u_3 + \\ldots$$\n",
    "\n",
    "En este caso la serie es *convergente*, y se dice que $s$ es la suma de la serie."
   ]
  },
  {
   "cell_type": "markdown",
   "metadata": {
    "slideshow": {
     "slide_type": "subslide"
    }
   },
   "source": [
    "- Si $s_n$ no tiende a un límite, sino que tiende a $+\\infty$ o a $- \\infty$, entonces se dice que la serie diverge a $+\\infty$ o a $- \\infty$.\n",
    "\n",
    "- Si $s_n$ no tiende a un límite, ni a $+\\infty$ ni a $- \\infty$, entonces se dice que la serie oscila (de forma finita o infinita).\n",
    "\n",
    "- Si una serie que no tenga términos negativos debe converger, o diverger, a $+\\infty$, no podrá oscilar.\n"
   ]
  },
  {
   "cell_type": "markdown",
   "metadata": {
    "slideshow": {
     "slide_type": "subslide"
    }
   },
   "source": [
    "### Serie aritmética:\n",
    "\n",
    "- La diferencia entre términos sucesivos es constante, así que se pueden representar los n primeros términos de la serie en la forma\n",
    "\n",
    "$$a, a+d, a+2d, \\ldots, a + (n-1)d$$\n",
    "\n",
    "en donde $a$, es el primer término, y $d$, la diferencia entre términos sucesivos.\n",
    "\n",
    "- La suma de los $n$-primeros términos de la serie aritmética es:\n",
    "\n",
    "$$s_n=an + \\frac{n(n-1)d}{2}$$"
   ]
  },
  {
   "cell_type": "markdown",
   "metadata": {
    "slideshow": {
     "slide_type": "subslide"
    }
   },
   "source": [
    "### Serie geométrica:\n",
    "\n",
    "- La razón de términos sucesivos es constante, de tal forma que los $n$ primeros términos de la serie se pueden representar en la forma\n",
    "\n",
    "$$a, ar, ar^2, \\ldots, ar^{n-1}$$\n",
    "\n",
    "- La suma de los $n$-primeros términos de la serie geométrica es:\n",
    "\n",
    "$$s_n=\\frac{a(1-r^n)}{(1-r)}$$\n",
    "\n",
    "- Salvo cuando $r=1$, $s_n=an$\n",
    "\n",
    "- Cuando $r \\neq 1$, la suma $s_n$ de una serie geométrica tiende a un límite $sii$ $r^n$ también lo hace."
   ]
  },
  {
   "cell_type": "markdown",
   "metadata": {
    "slideshow": {
     "slide_type": "subslide"
    }
   },
   "source": [
    "### Serie geométrica infinita:\n",
    "\n",
    "la serie\n",
    "\n",
    "$$a + ar + ar^2 + \\ldots$$ \n",
    "\n",
    "es convergente y tiene como suma\n",
    "\n",
    "$$s_n=\\frac{a}{(1-r)}$$ \n",
    "\n",
    "$sii$ $-1<r<1$ "
   ]
  },
  {
   "cell_type": "markdown",
   "metadata": {
    "slideshow": {
     "slide_type": "subslide"
    }
   },
   "source": [
    "La serie infinita\n",
    "\n",
    "$$r + 2r^2 + 3r^3 + \\ldots$$ \n",
    "\n",
    "converge cuando $-1<r<1$, y en este caso su suma es:\n",
    "\n",
    "$$s_n=\\frac{r}{(1-r)^2}$$"
   ]
  },
  {
   "cell_type": "markdown",
   "metadata": {
    "slideshow": {
     "slide_type": "subslide"
    }
   },
   "source": [
    "Sea la serie de la forma $1^r, 2^r, 3^r, \\ldots$, con $r$ entero positivo:\n",
    "\n",
    "- Si $r=0$, la serie es simplemente $1,1,1,\\ldots$ y el resultado de su suma es\n",
    "\n",
    "$$\\sum \\limits_{i=1}^{n} 1 = n$$\n",
    "\n",
    "- Para cualquier entero $k \\geq 0$\n",
    "\n",
    "$$\\sum \\limits_{i=1}^{n} i(i+1) \\ldots (i+k) = \\frac{ n(n+1)\\ldots (n+k+1)}{(k+2)}$$"
   ]
  },
  {
   "cell_type": "markdown",
   "metadata": {
    "slideshow": {
     "slide_type": "subslide"
    }
   },
   "source": [
    "De lo anterior, se ebtienen las sumas de diferentes series de interés:\n",
    "\n",
    "$$\\sum \\limits_{i=1}^{n} i = \\frac{n(n+1)}{2}$$\n",
    "\n",
    "- El resultado anterior es equivalente a tener $k=0$ en la proposición anterior.\n",
    "\n",
    "$$\\sum \\limits_{i=1}^{n} i^2 = \\frac{n(n+1)(2n+1)}{6}$$\n"
   ]
  },
  {
   "cell_type": "markdown",
   "metadata": {
    "slideshow": {
     "slide_type": "subslide"
    }
   },
   "source": [
    "Sea $r$ cualquier entero positivo:\n",
    "\n",
    "$$\\sum \\limits_{i=1}^{n} i^r = \\frac{n^{r+1}}{r+1}+p_r(n)$$\n",
    "\n",
    "- donde $p_r(n)$ es un polinomio de grado no mayor que $r$"
   ]
  },
  {
   "cell_type": "markdown",
   "metadata": {
    "slideshow": {
     "slide_type": "subslide"
    }
   },
   "source": [
    "### Serie armónica:\n",
    "\n",
    "Sea $H_n$ la suma de los $n$ primeros términos de la série armónica $1, 1/2, 1/3, \\ldots$ Entonces:\n",
    "\n",
    "$$log(n+1)<H_n \\leq 1+log(n)$$"
   ]
  },
  {
   "cell_type": "code",
   "execution_count": 3,
   "metadata": {
    "slideshow": {
     "slide_type": "subslide"
    }
   },
   "outputs": [
    {
     "data": {
      "image/png": "[encoded data removed]",
      "text/plain": [
       "<Figure size 640x480 with 1 Axes>"
      ]
     },
     "metadata": {},
     "output_type": "display_data"
    }
   ],
   "source": [
    "import numpy as np\n",
    "import matplotlib.pyplot as plt\n",
    "\n",
    "n = 20\n",
    "\n",
    "fig = plt.figure(figsize=(8, 6), dpi= 80, facecolor='w', edgecolor='k')\n",
    "\n",
    "x0 = np.linspace(0,n,5*n)\n",
    "x1 = np.linspace(1,n,5*n)\n",
    "\n",
    "plt.plot(x0,1/(x0+1),'r',label='1/(x+1)')\n",
    "plt.plot(x1,1/x1,'g',label='1/x')\n",
    "plt.xlabel(\"n\")\n",
    "plt.ylabel(\"1/n\")\n",
    "plt.ylim(0,1)\n",
    "plt.legend()\n",
    "plt.grid(True)\n",
    "plt.show()"
   ]
  },
  {
   "cell_type": "markdown",
   "metadata": {
    "slideshow": {
     "slide_type": "slide"
    }
   },
   "source": [
    "### Combinatoria\n",
    "\n",
    "*De cuántas formas se puede ordenar un conjunto de $n$ objetos distintos*?\n",
    "\n",
    "Supongamos que $C=\\{a,b,c,d\\}$, el conjunto $C$ se puede ordenar de las siguientes formas posibles:\n",
    "\n",
    "|&nbsp;|&nbsp;|&nbsp;|&nbsp;|&nbsp;|&nbsp;|\n",
    "|:--:|:--:|:--:|:--:|:--:|:--:|\n",
    "|abcd|abdc|acbd|acdb|adbc|adcb|\n",
    "|bacd|badc|bcad|bcda|bdac|bdca|\n",
    "|cabd|cadb|cbad|cbda|cdab|cdba|\n",
    "|dabc|dacb|dbac|dbca|dcab|dcba|\n",
    "\n",
    "en total resultaron 24 maneras distintas de disponerlos."
   ]
  },
  {
   "cell_type": "markdown",
   "metadata": {
    "slideshow": {
     "slide_type": "subslide"
    }
   },
   "source": [
    "El primer objeto de $C$ se puede seleccionar de $n$ maneras; una vez se ha seleccionado el objeto, el segundo se puede seleccionar de $n-1$ formas distintas; una vez seleccionados el primero y segundo, el tercero se puede seleccionar de $n-2$ formas distintas, y así sucesivamente. Hay dos posibilidades cuando se ha seleccionado el penúltimo objeto, y solamenbte hay una forma de seleccionar el último objeto. \n",
    "\n",
    "A esta disposición ordenada de objetos de un conjunto se le llama *permutación*."
   ]
  },
  {
   "cell_type": "markdown",
   "metadata": {
    "slideshow": {
     "slide_type": "subslide"
    }
   },
   "source": [
    "El número total de permutaciones del conjunto $C$ que contiene $n$ objetos es:\n",
    "\n",
    "$$n(n-1)(n-2) \\ldots (2) (1) = n!$$"
   ]
  },
  {
   "cell_type": "markdown",
   "metadata": {
    "slideshow": {
     "slide_type": "subslide"
    }
   },
   "source": [
    "Ahora se considerará el número de formas de seleccionar un cierto número de estos objetos, independientemente del orden en el cual se haga la selección, por ejemplo, si se tienen cinco objetos del nuevo conjunto $C=\\{a,b,c,d,e \\}$, se puede seleccionar tres objetos de ellos de $10$ formas diferentes (sin tener en cuenta el orden en que se escojan):\n",
    "\n",
    "| &nbsp; | &nbsp; | &nbsp;  | &nbsp;  | &nbsp;  |\n",
    "|---|---|---|---|---|\n",
    "|abc|abd|abe|acd|ace|\n",
    "|ade|bcd|bce|bde|cde|\n",
    "\n",
    "Por definición, una *combinación de $r$ objetos de entre $n$ objetos es una selección de $r$ objetos sin tener en cuenta el orden*.\n",
    "\n",
    "Una selección como *eba* no aparece en la lista, puesto que es lo mismo que *abe*."
   ]
  },
  {
   "cell_type": "markdown",
   "metadata": {
    "slideshow": {
     "slide_type": "subslide"
    }
   },
   "source": [
    "Cuando se hace la selección de $r$ objetos de entre $n$, hay $n$ formas de efectuar la primera opción. Cuando se ha seleccionado el primer objeto, quedan $n-1$ formas para seleccionar el segundo, y así sucesivamente. Cuando se selecciona el último de los $r$ objetos, quedan $n-r+1$ posibilidades. Por lo tanto hay\n",
    "\n",
    "$$n(n-1)(n-2) \\ldots (n-r+1)$$\n",
    "\n",
    "formas de seleccionar $r$ objetos de $n$ cuando se tiene en cuenta el orden."
   ]
  },
  {
   "cell_type": "markdown",
   "metadata": {
    "slideshow": {
     "slide_type": "subslide"
    }
   },
   "source": [
    "Cuando no se tiene en cuenta el orden, se pueden permutar los $r$ objetos seleccionados de cualquier forma deseada, y sigue contando como la misma combinación.\n",
    "\n",
    "En el anterior ejemplo, las seis opciones ordenadas *abc, acb, bac, bca, cab* y *cba* cuantan todas ellas como la misma combinación.\n",
    "\n",
    "Como hay $r!$ formas de permutar $r$ objetos, el número de formas de seleccionar $r$ objetos de entre $n$ cuando no se tiene en cuenta el orden es\n",
    "\n",
    "$$\\binom{n}{r}=\\frac{n(n-1)(n-2) \\ldots (n-r+1)}{r!}$$"
   ]
  },
  {
   "cell_type": "markdown",
   "metadata": {
    "slideshow": {
     "slide_type": "subslide"
    }
   },
   "source": [
    "- Cuando $r>n$, la ecuación anterior es $\\binom{n}{r}=0$, implica que no hay forma de seleccionar más de $n$ objetos de entre $n$.\n",
    "\n",
    "- Es conveniente definir $\\binom{n}{0}=1$: Hay una sola forma de no seleccionar ningún objeto.\n",
    "\n",
    "- Cuando $r<0$, que no tiene sentido combinatorio, se define $\\binom{n}{r}=0$.\n",
    "\n",
    "- Cuando $0 \\leq r \\leq n$, la ecuación anterior se puede escribir de una forma más compacta como\n",
    "\n",
    "$$\\binom{n}{r}=\\frac{n!}{r!(n-r)!}$$"
   ]
  },
  {
   "cell_type": "code",
   "execution_count": 7,
   "metadata": {
    "slideshow": {
     "slide_type": "slide"
    }
   },
   "outputs": [],
   "source": [
    "def factorial(x):\n",
    "    resultado = 1\n",
    "    for i in range(2,x+1):\n",
    "        resultado *= i\n",
    "    return resultado"
   ]
  },
  {
   "cell_type": "code",
   "execution_count": 21,
   "metadata": {},
   "outputs": [],
   "source": [
    "def permutacion(n,r):\n",
    "    return factorial(n)//(factorial(r)*factorial(n-r))"
   ]
  },
  {
   "cell_type": "code",
   "execution_count": 29,
   "metadata": {},
   "outputs": [
    {
     "data": {
      "text/plain": [
       "20"
      ]
     },
     "execution_count": 29,
     "metadata": {},
     "output_type": "execute_result"
    }
   ],
   "source": [
    "x = permutacion(6,3)\n",
    "x"
   ]
  },
  {
   "cell_type": "code",
   "execution_count": null,
   "metadata": {},
   "outputs": [],
   "source": []
  }
 ],
 "metadata": {
  "celltoolbar": "Slideshow",
  "kernelspec": {
   "display_name": "Python 3",
   "language": "python",
   "name": "python3"
  },
  "language_info": {
   "codemirror_mode": {
    "name": "ipython",
    "version": 3
   },
   "file_extension": ".py",
   "mimetype": "text/x-python",
   "name": "python",
   "nbconvert_exporter": "python",
   "pygments_lexer": "ipython3",
   "version": "3.6.8"
  }
 },
 "nbformat": 4,
 "nbformat_minor": 2
}
